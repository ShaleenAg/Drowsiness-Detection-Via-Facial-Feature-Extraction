{
 "metadata": {
  "language_info": {
   "codemirror_mode": {
    "name": "ipython",
    "version": 3
   },
   "file_extension": ".py",
   "mimetype": "text/x-python",
   "name": "python",
   "nbconvert_exporter": "python",
   "pygments_lexer": "ipython3",
   "version": "3.7.6-final"
  },
  "orig_nbformat": 2,
  "kernelspec": {
   "name": "python37764bitb85383e0bde748b48b661fa2b44c4ebe",
   "display_name": "Python 3.7.7 64-bit"
  }
 },
 "nbformat": 4,
 "nbformat_minor": 2,
 "cells": [
  {
   "cell_type": "code",
   "execution_count": 1,
   "metadata": {},
   "outputs": [],
   "source": [
    "import numpy as np"
   ]
  },
  {
   "cell_type": "code",
   "execution_count": 2,
   "metadata": {},
   "outputs": [],
   "source": [
    "l=np.zeros((10000,2))"
   ]
  },
  {
   "cell_type": "code",
   "execution_count": 3,
   "metadata": {},
   "outputs": [
    {
     "output_type": "execute_result",
     "data": {
      "text/plain": [
       "(10000, 2)"
      ]
     },
     "metadata": {},
     "execution_count": 3
    }
   ],
   "source": [
    "l.shape"
   ]
  },
  {
   "cell_type": "code",
   "execution_count": 8,
   "metadata": {
    "tags": []
   },
   "outputs": [
    {
     "output_type": "stream",
     "name": "stdout",
     "text": [
      "index is 0\n(68, 2)\nindex is 68\n(68, 2)\nindex is 136\n(68, 2)\nindex is 204\n(68, 2)\nindex is 272\n(68, 2)\nindex is 340\n(68, 2)\nindex is 408\n(68, 2)\nindex is 476\n(68, 2)\nindex is 544\n(68, 2)\nindex is 612\n(68, 2)\nindex is 680\n(68, 2)\nindex is 748\n(68, 2)\nindex is 816\n(68, 2)\nindex is 884\n(68, 2)\nindex is 952\n(68, 2)\nindex is 1020\n(68, 2)\nindex is 1088\n(68, 2)\nindex is 1156\n(68, 2)\nindex is 1224\n(68, 2)\nindex is 1292\n(68, 2)\nindex is 1360\n(68, 2)\nindex is 1428\n(68, 2)\nindex is 1496\n(68, 2)\nindex is 1564\n(68, 2)\nindex is 1632\n(68, 2)\nindex is 1700\n(68, 2)\nindex is 1768\n(68, 2)\nindex is 1836\n(68, 2)\nindex is 1904\n(68, 2)\nindex is 1972\n(68, 2)\nindex is 2040\n(68, 2)\nindex is 2108\n(68, 2)\nindex is 2176\n(68, 2)\nindex is 2244\n(68, 2)\nindex is 2312\n(68, 2)\nindex is 2380\n(68, 2)\nindex is 2448\n(68, 2)\nindex is 2516\n(68, 2)\nindex is 2584\n(68, 2)\nindex is 2652\n(68, 2)\nindex is 2720\n(68, 2)\nindex is 2788\n(68, 2)\nindex is 2856\n(68, 2)\nindex is 2924\n(68, 2)\nindex is 2992\n(68, 2)\nindex is 3060\n(68, 2)\nindex is 3128\n(68, 2)\nindex is 3196\n(68, 2)\nindex is 3264\n(68, 2)\nindex is 3332\n(68, 2)\nindex is 3400\n(68, 2)\nindex is 3468\n(68, 2)\nindex is 3536\n(68, 2)\nindex is 3604\n(68, 2)\nindex is 3672\n(68, 2)\nindex is 3740\n(68, 2)\nindex is 3808\n(68, 2)\nindex is 3876\n(68, 2)\nindex is 3944\n(68, 2)\nindex is 4012\n(68, 2)\nindex is 4080\n(68, 2)\nindex is 4148\n(68, 2)\nindex is 4216\n(68, 2)\nindex is 4284\n(68, 2)\nindex is 4352\n(68, 2)\nindex is 4420\n(68, 2)\nindex is 4488\n(68, 2)\nindex is 4556\n(68, 2)\nindex is 4624\n(68, 2)\nindex is 4692\n(68, 2)\nindex is 4760\n(68, 2)\nindex is 4828\n(68, 2)\nindex is 4896\n(68, 2)\nindex is 4964\n(68, 2)\nindex is 5032\n(68, 2)\nindex is 5100\n(68, 2)\nindex is 5168\n(68, 2)\nindex is 5236\n(68, 2)\nindex is 5304\n(68, 2)\nindex is 5372\n(68, 2)\nindex is 5440\n(68, 2)\nindex is 5508\n(68, 2)\nindex is 5576\n(68, 2)\nindex is 5644\n(68, 2)\nindex is 5712\n(68, 2)\nindex is 5780\n(68, 2)\nindex is 5848\n(68, 2)\nindex is 5916\n(68, 2)\nindex is 5984\n(68, 2)\nindex is 6052\n(68, 2)\nindex is 6120\n(68, 2)\nindex is 6188\n(68, 2)\nindex is 6256\n(68, 2)\nindex is 6324\n(68, 2)\nindex is 6392\n(68, 2)\nindex is 6460\n(68, 2)\nindex is 6528\n(68, 2)\nindex is 6596\n(68, 2)\nindex is 6664\n(68, 2)\nindex is 6732\n(68, 2)\nindex is 6800\n(68, 2)\nindex is 6868\n(68, 2)\nindex is 6936\n(68, 2)\nindex is 7004\n(68, 2)\nindex is 7072\n(68, 2)\nindex is 7140\n(68, 2)\nindex is 7208\n(68, 2)\nindex is 7276\n(68, 2)\nindex is 7344\n(68, 2)\nindex is 7412\n(68, 2)\nindex is 7480\n(68, 2)\nindex is 7548\n(68, 2)\nindex is 7616\n(68, 2)\nindex is 7684\n(68, 2)\nindex is 7752\n(68, 2)\nindex is 7820\n(68, 2)\nindex is 7888\n(68, 2)\nindex is 7956\n(68, 2)\nindex is 8024\n(68, 2)\nindex is 8092\n(68, 2)\nindex is 8160\n(68, 2)\nindex is 8228\n(68, 2)\nindex is 8296\n(68, 2)\nindex is 8364\n(68, 2)\nindex is 8432\n(68, 2)\nindex is 8500\n(68, 2)\nindex is 8568\n(68, 2)\nindex is 8636\n(68, 2)\nindex is 8704\n(68, 2)\nindex is 8772\n(68, 2)\nindex is 8840\n(68, 2)\nindex is 8908\n(68, 2)\nindex is 8976\n(68, 2)\nindex is 9044\n(68, 2)\nindex is 9112\n(68, 2)\nindex is 9180\n(68, 2)\nindex is 9248\n(68, 2)\nindex is 9316\n(68, 2)\nindex is 9384\n(68, 2)\nindex is 9452\n(68, 2)\nindex is 9520\n(68, 2)\nindex is 9588\n(68, 2)\nindex is 9656\n(68, 2)\nindex is 9724\n(68, 2)\nindex is 9792\n(68, 2)\nindex is 9860\n(68, 2)\nindex is 9928\n(68, 2)\nindex is 9996\n(4, 2)\n"
     ]
    }
   ],
   "source": [
    "count=0\n",
    "while(count<l.shape[0]):\n",
    "    print('index is {}'.format(count))\n",
    "    temp=l[count:count+68]\n",
    "    print(temp.shape)\n",
    "    count+=68"
   ]
  },
  {
   "cell_type": "code",
   "execution_count": null,
   "metadata": {},
   "outputs": [],
   "source": []
  }
 ]
}