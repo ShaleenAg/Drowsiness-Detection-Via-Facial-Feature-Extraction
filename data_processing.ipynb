{
 "metadata": {
  "language_info": {
   "codemirror_mode": {
    "name": "ipython",
    "version": 3
   },
   "file_extension": ".py",
   "mimetype": "text/x-python",
   "name": "python",
   "nbconvert_exporter": "python",
   "pygments_lexer": "ipython3",
   "version": "3.7.7-final"
  },
  "orig_nbformat": 2,
  "kernelspec": {
   "name": "Python 3.7.7 64-bit",
   "display_name": "Python 3.7.7 64-bit",
   "metadata": {
    "interpreter": {
     "hash": "d541ec867f07ad341b57fa2edcf220611babd28f92f7eac7792214c73c1cbc51"
    }
   }
  }
 },
 "nbformat": 4,
 "nbformat_minor": 2,
 "cells": [
  {
   "cell_type": "code",
   "execution_count": 3,
   "metadata": {},
   "outputs": [],
   "source": [
    "import numpy as np\n",
    "import pandas as pd\n",
    "from scipy.spatial import distance\n",
    "import cv2\n",
    "import math"
   ]
  },
  {
   "source": [
    "def eye_aspect_ratio(eye):\n",
    "\tA = distance.euclidean(eye[1], eye[5])\n",
    "\tB = distance.euclidean(eye[2], eye[4])\n",
    "\tC = distance.euclidean(eye[0], eye[3])\n",
    "\tear = (A + B) / (2.0 * C)\n",
    "\treturn ear\n",
    "def mouth_aspect_ratio(mouth):\n",
    "    A = distance.euclidean(mouth[14], mouth[18])\n",
    "    C = distance.euclidean(mouth[12], mouth[16])\n",
    "    mar = (A ) / (C)\n",
    "    return mar\n",
    "def circularity(eye):\n",
    "    A = distance.euclidean(eye[1], eye[4])\n",
    "    radius  = A/2.0\n",
    "    Area = math.pi * (radius ** 2)\n",
    "    p = 0\n",
    "    p += distance.euclidean(eye[0], eye[1])\n",
    "    p += distance.euclidean(eye[1], eye[2])\n",
    "    p += distance.euclidean(eye[2], eye[3])\n",
    "    p += distance.euclidean(eye[3], eye[4])\n",
    "    p += distance.euclidean(eye[4], eye[5])\n",
    "    p += distance.euclidean(eye[5], eye[0])\n",
    "    return 4 * math.pi * Area /(p**2)\n",
    "def mouth_over_eye(eye):\n",
    "\tear = eye_aspect_ratio(eye)\n",
    "\tmar = mouth_aspect_ratio(eye)\n",
    "\tmouth_eye = mar/ear\n",
    "\treturn mouth_eye"
   ],
   "cell_type": "code",
   "metadata": {},
   "execution_count": 4,
   "outputs": []
  },
  {
   "cell_type": "code",
   "execution_count": 5,
   "metadata": {},
   "outputs": [],
   "source": [
    "landmarks=np.load('landmarks.npy')\n",
    "data=np.load('data.npy')\n",
    "labels=np.load('labels.npy')\n",
    "respondent=np.load('respondents.npy')"
   ]
  },
  {
   "cell_type": "code",
   "execution_count": 6,
   "metadata": {},
   "outputs": [
    {
     "output_type": "execute_result",
     "data": {
      "text/plain": [
       "68"
      ]
     },
     "metadata": {},
     "execution_count": 6
    }
   ],
   "source": [
    "len(landmarks)"
   ]
  },
  {
   "cell_type": "code",
   "execution_count": 7,
   "metadata": {},
   "outputs": [],
   "source": [
    "ear=[]\n",
    "mar=[]\n",
    "moe=[]\n",
    "circu=[]\n"
   ]
  },
  {
   "cell_type": "code",
   "execution_count": 6,
   "metadata": {},
   "outputs": [
    {
     "output_type": "execute_result",
     "data": {
      "text/plain": [
       "array([541, 743])"
      ]
     },
     "metadata": {},
     "execution_count": 6
    }
   ],
   "source": [
    "landmarks[67]"
   ]
  },
  {
   "cell_type": "code",
   "execution_count": 7,
   "metadata": {},
   "outputs": [],
   "source": [
    "for i in data:\n",
    "    eye=i[36:67]\n",
    "    ear.append(eye_aspect_ratio(eye))\n",
    "    mar.append(mouth_aspect_ratio(eye))\n",
    "    moe.append(mouth_over_eye(eye))\n",
    "    circu.append(circularity(eye))"
   ]
  },
  {
   "cell_type": "code",
   "execution_count": 15,
   "metadata": {},
   "outputs": [
    {
     "output_type": "execute_result",
     "data": {
      "text/plain": [
       "1800"
      ]
     },
     "metadata": {},
     "execution_count": 15
    }
   ],
   "source": [
    "len(ear)"
   ]
  },
  {
   "cell_type": "code",
   "execution_count": 8,
   "metadata": {},
   "outputs": [],
   "source": [
    "data= pd.DataFrame(list(zip(respondent,moe,mar,ear,circu,labels)),columns=['Respondents','MOE','MAR','EAR','Circularity','Labels'])"
   ]
  },
  {
   "cell_type": "code",
   "execution_count": 18,
   "metadata": {},
   "outputs": [],
   "source": [
    "data.to_csv('Main.csv')"
   ]
  },
  {
   "source": [
    "# normalisation"
   ],
   "cell_type": "markdown",
   "metadata": {}
  },
  {
   "cell_type": "code",
   "execution_count": 9,
   "metadata": {},
   "outputs": [],
   "source": [
    "alert=data[data['Labels']==0]"
   ]
  },
  {
   "cell_type": "code",
   "execution_count": 10,
   "metadata": {},
   "outputs": [],
   "source": [
    "alert1=alert.iloc[0::300,:]\n",
    "alert2=alert.iloc[1::300,:]\n",
    "alert3=alert.iloc[2::300,:]"
   ]
  },
  {
   "cell_type": "code",
   "execution_count": 11,
   "metadata": {},
   "outputs": [],
   "source": [
    "alert_all=pd.concat([alert1,alert2,alert3])\n",
    "alert_all=alert_all.sort_index()"
   ]
  },
  {
   "cell_type": "code",
   "execution_count": 12,
   "metadata": {},
   "outputs": [],
   "source": [
    "alert_mean=alert_all.groupby(\"Respondents\")['MOE','MAR','EAR','Circularity'].mean()\n",
    "alert_std=alert_all.groupby(\"Respondents\")['MOE','MAR','EAR','Circularity'].std()\n"
   ]
  },
  {
   "cell_type": "code",
   "execution_count": 13,
   "metadata": {},
   "outputs": [],
   "source": [
    "def mean_EAR(respondent):\n",
    "    return alert_mean.loc[respondent][\"EAR\"]\n",
    "\n",
    "def mean_MAR(respondent):\n",
    "    return alert_mean.loc[respondent][\"MAR\"]\n",
    "\n",
    "def mean_Circularity(respondent):\n",
    "    return alert_mean.loc[respondent][\"Circularity\"]\n",
    "\n",
    "def mean_MOE(respondent):\n",
    "    return alert_mean.loc[respondent][\"MOE\"]\n",
    "\n",
    "\n",
    "def std_EAR(respondent):\n",
    "    return alert_std.loc[respondent][\"EAR\"]\n",
    "\n",
    "def std_MAR(respondent):\n",
    "    return alert_std.loc[respondent][\"MAR\"]\n",
    "\n",
    "def std_Circularity(respondent):\n",
    "    return alert_std.loc[respondent][\"Circularity\"]\n",
    "\n",
    "def std_MOE(respondent):\n",
    "    return alert_std.loc[respondent][\"MOE\"]"
   ]
  },
  {
   "cell_type": "code",
   "execution_count": 17,
   "metadata": {},
   "outputs": [],
   "source": [
    "data=pd.read_csv('Main.csv')"
   ]
  },
  {
   "cell_type": "code",
   "execution_count": 18,
   "metadata": {},
   "outputs": [],
   "source": [
    "data['mean_MOE']=data['Respondents'].apply(mean_MOE)\n",
    "data['mean_EAR']=data['Respondents'].apply(mean_EAR)\n",
    "data['mean_MAR']=data['Respondents'].apply(mean_MAR)\n",
    "data['mean_Circularity']=data['Respondents'].apply(mean_Circularity)"
   ]
  },
  {
   "cell_type": "code",
   "execution_count": 19,
   "metadata": {},
   "outputs": [],
   "source": [
    "data['std_MOE']=data['Respondents'].apply(std_MOE)\n",
    "data['std_EAR']=data['Respondents'].apply(std_EAR)\n",
    "data['std_MAR']=data['Respondents'].apply(std_MAR)\n",
    "data['std_Circularity']=data['Respondents'].apply(std_Circularity)"
   ]
  },
  {
   "cell_type": "code",
   "execution_count": 20,
   "metadata": {},
   "outputs": [],
   "source": [
    "data['Normalised_EAR']=(data['EAR']-data['mean_EAR'])/data['std_EAR']\n",
    "data['Normalised_MAR']=(data[\"MAR\"]-data['mean_MAR'])/data['std_MAR']\n",
    "data['Normalised_MOE']=(data['MOE']-data['mean_MOE'])/data['std_MOE']\n",
    "data['Normalised_Circularity']=(data['Circularity']-data['mean_Circularity'])/data['std_Circularity']"
   ]
  },
  {
   "cell_type": "code",
   "execution_count": 21,
   "metadata": {},
   "outputs": [],
   "source": [
    "#final_data=data.drop(columns=['MOE','MAR','EAR','Circularity'])"
   ]
  },
  {
   "cell_type": "code",
   "execution_count": 23,
   "metadata": {},
   "outputs": [],
   "source": [
    "final_data=data.drop(columns=['mean_MAR','mean_MOE','mean_Circularity','mean_EAR','Unnamed: 0','std_MOE','std_MAR','std_EAR','std_Circularity'])"
   ]
  },
  {
   "cell_type": "code",
   "execution_count": 24,
   "metadata": {},
   "outputs": [
    {
     "output_type": "execute_result",
     "data": {
      "text/plain": [
       "Index(['Respondents', 'MOE', 'MAR', 'EAR', 'Circularity', 'Labels',\n",
       "       'Normalised_EAR', 'Normalised_MAR', 'Normalised_MOE',\n",
       "       'Normalised_Circularity'],\n",
       "      dtype='object')"
      ]
     },
     "metadata": {},
     "execution_count": 24
    }
   ],
   "source": [
    "final_data.columns"
   ]
  },
  {
   "cell_type": "code",
   "execution_count": 25,
   "metadata": {},
   "outputs": [],
   "source": [
    "final_data.to_csv('final2.csv')"
   ]
  },
  {
   "cell_type": "code",
   "execution_count": 26,
   "metadata": {},
   "outputs": [
    {
     "output_type": "execute_result",
     "data": {
      "text/plain": [
       "(1800, 10)"
      ]
     },
     "metadata": {},
     "execution_count": 26
    }
   ],
   "source": [
    "final_data.shape"
   ]
  },
  {
   "cell_type": "code",
   "execution_count": null,
   "metadata": {},
   "outputs": [],
   "source": []
  }
 ]
}