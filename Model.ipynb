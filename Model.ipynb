{
 "metadata": {
  "language_info": {
   "codemirror_mode": {
    "name": "ipython",
    "version": 3
   },
   "file_extension": ".py",
   "mimetype": "text/x-python",
   "name": "python",
   "nbconvert_exporter": "python",
   "pygments_lexer": "ipython3",
   "version": "3.7.7-final"
  },
  "orig_nbformat": 2,
  "kernelspec": {
   "name": "Python 3.7.7 64-bit",
   "display_name": "Python 3.7.7 64-bit",
   "metadata": {
    "interpreter": {
     "hash": "d541ec867f07ad341b57fa2edcf220611babd28f92f7eac7792214c73c1cbc51"
    }
   }
  }
 },
 "nbformat": 4,
 "nbformat_minor": 2,
 "cells": [
  {
   "cell_type": "code",
   "execution_count": 28,
   "metadata": {},
   "outputs": [],
   "source": [
    "import pandas as pd\n",
    "import numpy as np\n",
    "import tensorflow\n",
    "import keras\n",
    "from keras.models import Sequential\n",
    "from keras.layers.recurrent import LSTM\n",
    "from keras.layers import Dense, Flatten, Dropout , TimeDistributed, Input\n",
    "from keras.optimizers import Adam"
   ]
  },
  {
   "cell_type": "code",
   "execution_count": 58,
   "metadata": {},
   "outputs": [],
   "source": [
    "data=pd.read_csv('final.csv')"
   ]
  },
  {
   "cell_type": "code",
   "execution_count": 68,
   "metadata": {},
   "outputs": [
    {
     "output_type": "execute_result",
     "data": {
      "text/plain": [
       "Index(['Normalised_EAR', 'Normalised_MAR', 'Normalised_MOE',\n",
       "       'Normalised_Circularity'],\n",
       "      dtype='object')"
      ]
     },
     "metadata": {},
     "execution_count": 68
    }
   ],
   "source": [
    "data.drop(columns=['Respondents','Labels','Unnamed: 0']).columns"
   ]
  },
  {
   "cell_type": "code",
   "execution_count": 59,
   "metadata": {},
   "outputs": [],
   "source": [
    "z=5\n",
    "x_train=np.array(data.drop(columns=['Respondents','Labels','Unnamed: 0']))\n",
    "x_train=np.reshape(x_train,(-1,z,4))"
   ]
  },
  {
   "cell_type": "code",
   "execution_count": 60,
   "metadata": {},
   "outputs": [],
   "source": [
    "y_train=np.array(data['Labels'])"
   ]
  },
  {
   "cell_type": "code",
   "execution_count": 61,
   "metadata": {},
   "outputs": [],
   "source": [
    "y_shape=[]\n",
    "for i in range(0,y_train.shape[0],z):\n",
    "    y_shape.append(y_train[i])\n",
    "y_shape=np.array(y_shape)"
   ]
  },
  {
   "cell_type": "code",
   "execution_count": 62,
   "metadata": {},
   "outputs": [],
   "source": [
    "model=Sequential()\n",
    "#model.add(Dense(1024,activation='sigmoid'))\n",
    "model.add(LSTM(512,return_sequences=True,dropout=0.5,input_shape=(z,4)))\n",
    "# model.add(TimeDistributed(Dense(1,'sigmoid')))\n",
    "model.add(Flatten())\n",
    "model.add(Dense(216,activation='sigmoid'))\n",
    "model.add(Dense(32,activation='tanh'))\n",
    "model.add(Dropout(0.5))\n",
    "model.add(Dense(16,activation='relu'))\n",
    "model.add(Dropout(0.5))\n",
    "model.add(Dense(1,activation='sigmoid'))\n",
    "model.compile(optimizer=Adam(lr=0.00005),loss='binary_crossentropy',metrics=['accuracy'])"
   ]
  },
  {
   "cell_type": "code",
   "execution_count": 63,
   "metadata": {},
   "outputs": [
    {
     "output_type": "stream",
     "name": "stdout",
     "text": [
      "Epoch 1/50\n",
      "36/36 [==============================] - 0s 6ms/step - loss: 0.8598 - accuracy: 0.6194\n",
      "Epoch 2/50\n",
      "36/36 [==============================] - 0s 5ms/step - loss: 0.7676 - accuracy: 0.6139\n",
      "Epoch 3/50\n",
      "36/36 [==============================] - 0s 5ms/step - loss: 0.7038 - accuracy: 0.6389\n",
      "Epoch 4/50\n",
      "36/36 [==============================] - 0s 5ms/step - loss: 0.6801 - accuracy: 0.6333\n",
      "Epoch 5/50\n",
      "36/36 [==============================] - 0s 5ms/step - loss: 0.6467 - accuracy: 0.6583\n",
      "Epoch 6/50\n",
      "36/36 [==============================] - 0s 5ms/step - loss: 0.6387 - accuracy: 0.6556\n",
      "Epoch 7/50\n",
      "36/36 [==============================] - 0s 5ms/step - loss: 0.5859 - accuracy: 0.6806\n",
      "Epoch 8/50\n",
      "36/36 [==============================] - 0s 6ms/step - loss: 0.6451 - accuracy: 0.6333\n",
      "Epoch 9/50\n",
      "36/36 [==============================] - 0s 5ms/step - loss: 0.6107 - accuracy: 0.6639\n",
      "Epoch 10/50\n",
      "36/36 [==============================] - 0s 5ms/step - loss: 0.5711 - accuracy: 0.7083\n",
      "Epoch 11/50\n",
      "36/36 [==============================] - 0s 5ms/step - loss: 0.5667 - accuracy: 0.6917\n",
      "Epoch 12/50\n",
      "36/36 [==============================] - 0s 5ms/step - loss: 0.5699 - accuracy: 0.6750\n",
      "Epoch 13/50\n",
      "36/36 [==============================] - 0s 5ms/step - loss: 0.5914 - accuracy: 0.6889\n",
      "Epoch 14/50\n",
      "36/36 [==============================] - 0s 5ms/step - loss: 0.6023 - accuracy: 0.6861\n",
      "Epoch 15/50\n",
      "36/36 [==============================] - 0s 5ms/step - loss: 0.6148 - accuracy: 0.6861\n",
      "Epoch 16/50\n",
      "36/36 [==============================] - 0s 5ms/step - loss: 0.6011 - accuracy: 0.6639\n",
      "Epoch 17/50\n",
      "36/36 [==============================] - 0s 5ms/step - loss: 0.5609 - accuracy: 0.6778\n",
      "Epoch 18/50\n",
      "36/36 [==============================] - 0s 5ms/step - loss: 0.5880 - accuracy: 0.6861\n",
      "Epoch 19/50\n",
      "36/36 [==============================] - 0s 6ms/step - loss: 0.5574 - accuracy: 0.7500\n",
      "Epoch 20/50\n",
      "36/36 [==============================] - 0s 5ms/step - loss: 0.5769 - accuracy: 0.6667\n",
      "Epoch 21/50\n",
      "36/36 [==============================] - 0s 5ms/step - loss: 0.5594 - accuracy: 0.7278\n",
      "Epoch 22/50\n",
      "36/36 [==============================] - 0s 5ms/step - loss: 0.5467 - accuracy: 0.7222\n",
      "Epoch 23/50\n",
      "36/36 [==============================] - 0s 5ms/step - loss: 0.5574 - accuracy: 0.7028\n",
      "Epoch 24/50\n",
      "36/36 [==============================] - 0s 5ms/step - loss: 0.5793 - accuracy: 0.7000\n",
      "Epoch 25/50\n",
      "36/36 [==============================] - 0s 6ms/step - loss: 0.5545 - accuracy: 0.7528\n",
      "Epoch 26/50\n",
      "36/36 [==============================] - 0s 5ms/step - loss: 0.5609 - accuracy: 0.7028\n",
      "Epoch 27/50\n",
      "36/36 [==============================] - 0s 5ms/step - loss: 0.5463 - accuracy: 0.7250\n",
      "Epoch 28/50\n",
      "36/36 [==============================] - 0s 5ms/step - loss: 0.5584 - accuracy: 0.7167\n",
      "Epoch 29/50\n",
      "36/36 [==============================] - 0s 5ms/step - loss: 0.5554 - accuracy: 0.6972\n",
      "Epoch 30/50\n",
      "36/36 [==============================] - 0s 6ms/step - loss: 0.5544 - accuracy: 0.7222\n",
      "Epoch 31/50\n",
      "36/36 [==============================] - 0s 5ms/step - loss: 0.5222 - accuracy: 0.7472\n",
      "Epoch 32/50\n",
      "36/36 [==============================] - 0s 6ms/step - loss: 0.5166 - accuracy: 0.7556\n",
      "Epoch 33/50\n",
      "36/36 [==============================] - 0s 5ms/step - loss: 0.5431 - accuracy: 0.7028\n",
      "Epoch 34/50\n",
      "36/36 [==============================] - 0s 5ms/step - loss: 0.5376 - accuracy: 0.7083\n",
      "Epoch 35/50\n",
      "36/36 [==============================] - 0s 5ms/step - loss: 0.5181 - accuracy: 0.7417\n",
      "Epoch 36/50\n",
      "36/36 [==============================] - 0s 6ms/step - loss: 0.5203 - accuracy: 0.7611\n",
      "Epoch 37/50\n",
      "36/36 [==============================] - 0s 5ms/step - loss: 0.5425 - accuracy: 0.7167\n",
      "Epoch 38/50\n",
      "36/36 [==============================] - 0s 5ms/step - loss: 0.5305 - accuracy: 0.7111\n",
      "Epoch 39/50\n",
      "36/36 [==============================] - 0s 5ms/step - loss: 0.5466 - accuracy: 0.7222\n",
      "Epoch 40/50\n",
      "36/36 [==============================] - 0s 5ms/step - loss: 0.5262 - accuracy: 0.7222\n",
      "Epoch 41/50\n",
      "36/36 [==============================] - 0s 5ms/step - loss: 0.4957 - accuracy: 0.7417\n",
      "Epoch 42/50\n",
      "36/36 [==============================] - 0s 6ms/step - loss: 0.5385 - accuracy: 0.7167\n",
      "Epoch 43/50\n",
      "36/36 [==============================] - 0s 5ms/step - loss: 0.5124 - accuracy: 0.7500\n",
      "Epoch 44/50\n",
      "36/36 [==============================] - 0s 5ms/step - loss: 0.5014 - accuracy: 0.7361\n",
      "Epoch 45/50\n",
      "36/36 [==============================] - 0s 5ms/step - loss: 0.5423 - accuracy: 0.7333\n",
      "Epoch 46/50\n",
      "36/36 [==============================] - 0s 5ms/step - loss: 0.5143 - accuracy: 0.7472\n",
      "Epoch 47/50\n",
      "36/36 [==============================] - 0s 5ms/step - loss: 0.5733 - accuracy: 0.6917\n",
      "Epoch 48/50\n",
      "36/36 [==============================] - 0s 5ms/step - loss: 0.5306 - accuracy: 0.7361\n",
      "Epoch 49/50\n",
      "36/36 [==============================] - 0s 5ms/step - loss: 0.5580 - accuracy: 0.7028\n",
      "Epoch 50/50\n",
      "36/36 [==============================] - 0s 6ms/step - loss: 0.5225 - accuracy: 0.7528\n"
     ]
    },
    {
     "output_type": "execute_result",
     "data": {
      "text/plain": [
       "<tensorflow.python.keras.callbacks.History at 0x1ecc841c608>"
      ]
     },
     "metadata": {},
     "execution_count": 63
    }
   ],
   "source": [
    "hist=model.fit(x_train,y_shape,epochs=50,batch_size=10)"
   ]
  },
  {
   "cell_type": "code",
   "execution_count": 66,
   "metadata": {},
   "outputs": [],
   "source": [
    "model.save('LSTM2.h5',)"
   ]
  },
  {
   "cell_type": "code",
   "execution_count": 67,
   "metadata": {},
   "outputs": [],
   "source": [
    "model.save_weights('weights.h5')"
   ]
  },
  {
   "cell_type": "code",
   "execution_count": 73,
   "metadata": {},
   "outputs": [],
   "source": [
    "x_test=np.load('test.npy')\n",
    "y_test=np.load('label_test.npy')\n",
    "x_test=np.reshape(x_test,(-1,z,4))"
   ]
  },
  {
   "cell_type": "code",
   "execution_count": 74,
   "metadata": {},
   "outputs": [
    {
     "output_type": "execute_result",
     "data": {
      "text/plain": [
       "array([[0.16856219],\n",
       "       [0.16498724],\n",
       "       [0.16498724],\n",
       "       [0.16498724]], dtype=float32)"
      ]
     },
     "metadata": {},
     "execution_count": 74
    }
   ],
   "source": [
    "model.predict(x_test)"
   ]
  },
  {
   "cell_type": "code",
   "execution_count": 80,
   "metadata": {},
   "outputs": [
    {
     "output_type": "execute_result",
     "data": {
      "text/plain": [
       "array([[0],\n",
       "       [0],\n",
       "       [0],\n",
       "       [0]])"
      ]
     },
     "metadata": {},
     "execution_count": 80
    }
   ],
   "source": [
    "(model.predict(x_test)>0.5).astype('int')"
   ]
  },
  {
   "cell_type": "code",
   "execution_count": 81,
   "metadata": {},
   "outputs": [],
   "source": [
    "m2=keras.models.load_model(\"LSTM\")"
   ]
  },
  {
   "cell_type": "code",
   "execution_count": 83,
   "metadata": {},
   "outputs": [
    {
     "output_type": "stream",
     "name": "stdout",
     "text": [
      "Model: \"sequential_12\"\n_________________________________________________________________\nLayer (type)                 Output Shape              Param #   \n=================================================================\nlstm_11 (LSTM)               (None, 5, 512)            1058816   \n_________________________________________________________________\nflatten_11 (Flatten)         (None, 2560)              0         \n_________________________________________________________________\ndense_48 (Dense)             (None, 216)               553176    \n_________________________________________________________________\ndense_49 (Dense)             (None, 32)                6944      \n_________________________________________________________________\ndropout_22 (Dropout)         (None, 32)                0         \n_________________________________________________________________\ndense_50 (Dense)             (None, 16)                528       \n_________________________________________________________________\ndropout_23 (Dropout)         (None, 16)                0         \n_________________________________________________________________\ndense_51 (Dense)             (None, 1)                 17        \n=================================================================\nTotal params: 1,619,481\nTrainable params: 1,619,481\nNon-trainable params: 0\n_________________________________________________________________\n"
     ]
    }
   ],
   "source": [
    "m2.summary()"
   ]
  },
  {
   "cell_type": "code",
   "execution_count": 86,
   "metadata": {},
   "outputs": [],
   "source": [
    "a=m2.history"
   ]
  },
  {
   "cell_type": "code",
   "execution_count": null,
   "metadata": {},
   "outputs": [],
   "source": []
  }
 ]
}